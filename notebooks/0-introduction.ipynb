{
 "cells": [
  {
   "cell_type": "markdown",
   "metadata": {},
   "source": [
    "# Introduction to Raster Data\n",
    "\n",
    "This notebook based on content from previous geohackweek raster tutorials https://github.com/geohackweek/raster\n",
    "\n",
    "\n",
    "<div class=\"alert-info\">\n",
    "\n",
    "### Overview\n",
    "    \n",
    "* **teaching:** 15 minutes\n",
    "* **exercises:** 0\n",
    "* **questions:**\n",
    "    * What is a raster? \n",
    "    * What are the main attributes of raster data?\n",
    "* **objectives:**\n",
    "    * Understand the raster data model\n",
    "    * Describe the strengths and weaknesses of storing data in raster format\n",
    "  \n",
    "</div>"
   ]
  },
  {
   "cell_type": "markdown",
   "metadata": {},
   "source": [
    "### Table of contents\n",
    "\n",
    "1. [**Data Structures: Raster and Vector**](#Data-Structures:-Raster-and-Vector)\n",
    "    1. [About Raster Data](#About-Raster-Data)\n",
    "    1. [Examples of continuous rasters](#Examples-of-continuous-rasters)\n",
    "    1. [Examples of categorical rasters](#Examples-of-categorical-rasters)\n",
    "1. [**Advantages and Disadvantages**](#Advantages-and-Disadvantages)\n",
    "1. [**What makes a raster geospatial?**](#What-makes-a-raster-geospatial?)\n",
    "    1. [Coordinate Reference System or \"CRS\"](#Coordinate-Reference-System-or-\"CRS\")\n",
    "    1. [Affine Geotransformation](#Affine-Geotransformation)\n",
    "1. [**Multi-band Raster Data**](#Multi-band-Raster-Data)\n",
    "1. [**Additional-Resources**](#Additional-Resources)"
   ]
  },
  {
   "cell_type": "markdown",
   "metadata": {},
   "source": [
    "## Data Structures: Raster and Vector\n",
    "\n",
    "The two primary types of geospatial data are raster and vector data:  \n",
    "\n",
    "* Vector data structures represent specific features on the Earth's surface, and assign attributes to those features.  \n",
    "* Raster data is stored as a grid of values which are rendered on a map as pixels. Each pixel value represents an area on the Earth's surface. \n",
    "\n",
    "In the 1950's raster graphics were noted as a faster and cheaper (but lower-resolution) alternative to vector graphics.\n",
    "\n",
    "### Raster Basics\n",
    "\n",
    "A raster is a rectangular grid of pixels with values that can continuous (e.g. elevation) or categorical (e.g. land use).  This data structure is very common - jpg images on the web, photos from your digital camera, and the jupyterhub icon are all rasters.\n",
    "\n",
    "<img src=\"../assets/raster_concept.png\" width=\"500\" height=\"500\" />\n",
    "*Source: National Ecological Observatory Network (NEON)*\n",
    "\n",
    "### Common properties of any raster:\n",
    "* number of rows and columns (sometimes referred to as lines and samples)\n",
    "* data type (dtype, or bit depth) - e.g., 8-bit (2^8 possible values, 0-255) \n",
    "* some kind of resolution information, often dots per inch (dpi) with raster graphics\n",
    "\n",
    "A geospatial raster is only different from a digital photo in that it is accompanied by metadata that connects the grid to a particular location."
   ]
  },
  {
   "cell_type": "markdown",
   "metadata": {},
   "source": [
    "### Examples of continuous rasters\n",
    "\n",
    "1. Satellite imagery such as those acquired by [Landsat](https://landsat.usgs.gov) or [MODIS](https://modis.gsfc.nasa.gov)\n",
    "2. Digital Elevation Models (DEMs) such as [ASTER GDEM](https://asterweb.jpl.nasa.gov/gdem.asp)\n",
    "3. Maps of canopy height derived from LiDAR data.\n",
    "\n",
    "A map of elevation for Harvard Forest derived from the [NEON AOP LiDAR sensor](http://www.neonscience.org/data-collection/airborne-remote-sensing)\n",
    "is below. Elevation is represented as continuous numeric variable in this map. The legend\n",
    "shows the continuous range of values in the data from around 300 to 420 meters.\n",
    "\n",
    "\n",
    "<img src=\"../assets/rmd-01-elevation-map-1.png\" width=\"500\" height=\"500\" />"
   ]
  },
  {
   "cell_type": "markdown",
   "metadata": {},
   "source": [
    "### Examples of categorical rasters\n",
    "\n",
    "Some rasters contain categorical data where each pixel represents a discrete class such as a landcover type (e.g., \"coniferous forest\" or \"grassland\") rather than a continuous value such as elevation or temperature. Some examples of classified\n",
    "maps include:\n",
    "\n",
    "1. Landcover / land-use maps.\n",
    "2. Snowcover masks (binary snow or no snow)\n",
    "\n",
    "The following map shows elevation data for the NEON Harvard Forest field site. In this map, the elevation data (a continuous variable) has been divided up into categories to yield a categorical raster. \n",
    "\n",
    "<img src=\"../assets/rmd-01-classified-elevation-map-1.png\" width=\"500\" height=\"500\" />"
   ]
  },
  {
   "cell_type": "markdown",
   "metadata": {},
   "source": [
    "## Raster Advantages and Disadvantages\n",
    "\n",
    "| Advantages | Disadvantages |\n",
    "| ----- | --- | \n",
    "| efficient representation of continuous surfaces | very large file sizes as cell size gets smaller | \n",
    "| potentially very high levels of detail | can be difficult to represent complex information |\n",
    "| data is 'unweighted' across its extent  | Measurements are spatially arranged in a regular grid, which may not be an accurate representation of real-world phenomena. |  \n",
    "| cell-by-cell calculations can be very fast and efficient | Space-filling model assumes that all pixels have value |\n",
    "| | Changes in resolution can drastically change the meaning of values in a dataset |\n"
   ]
  },
  {
   "cell_type": "markdown",
   "metadata": {},
   "source": [
    "## What makes a raster geospatial?\n",
    "\n",
    "A raster is just an image in local pixel coordinates until we specify what part of the earth the image covers.  This is done through two fundamental pieces of metadata that accompany the pixel values of the image:\n",
    "\n",
    "### Coordinate Reference System or \"CRS\"\n",
    "This specifies the datum, projection, and additional parameters needed to place the raster in geographic space. For a dedicated lesson on CRSs, see: \n",
    "[https://datacarpentry.org/organization-geospatial/03-crs/index.html](https://datacarpentry.org/organization-geospatial/03-crs/index.html)\n",
    "\n",
    "<img src=\"../assets/us_crs.jpg\" width=\"500\" height=\"500\" />\n",
    "\n",
    "### Geotransformation \n",
    "\n",
    "This is the essential matrix that relates the raster pixel coordinates (rows, columns) to the geographic coordiantes (x and y defined by the CRS). This is typically a 6-parameter transformation that defines the origin, pixel size and rotation of the raster in the geographic coordinate system:\n",
    "```bash\n",
    "Xgeo = GT(0) + Xpixel*GT(1) + Yline*GT(2)\n",
    "Ygeo = GT(3) + Xpixel*GT(4) + Yline*GT(5)\n",
    "```\n",
    "Defining this for the whole image allows the image's pixels to be referenced by a local array index rather than global coordinates, and answers questions such as:\n",
    "\n",
    "* How much area does a given pixel cover?\n",
    "* Given the CRS, what is the origin?\n",
    "* In what direction does the raster \"grow\" as pixel indices increase?\n",
    "\n",
    "#### Extent / BBOX\n",
    "\n",
    "The affine transformation specifies an \"extent\" or \"bounding box\", which is defined by the minimum and maximum x and y coordinates of the data.\n",
    "\n",
    "#### Resolution / Posting\n",
    "\n",
    "The affine transformation specifies a pixel size of the area on the ground that each pixel of the raster covers. This is often refered to as \"resolution\", but because images are often resampled to different resolutions it is also refered to as \"posting\" or \"ground sample distance (gsd)\". Ultimately, \"resolution\" refers to a sensors ability to distinguish different objects on the ground. The image below illustrates the effect of changes in resolution: \n",
    "\n",
    "<img src=\"../assets/raster_resolution.png\" width=\"500\" height=\"500\" />\n",
    "\n",
    "*Source: National Ecological Observatory Network (NEON)*\n",
    "\n",
    "#### More resources\n",
    "\n",
    "https://gdal.org/user/raster_data_model.html  \n",
    "https://rasterio.readthedocs.io/en/stable/topics/migrating-to-v1.html"
   ]
  },
  {
   "cell_type": "markdown",
   "metadata": {},
   "source": [
    "## Multi-band Raster Data\n",
    "\n",
    "A raster can contain one or more bands. In a multi-band dataset, the rasters will always have the same extent,\n",
    "resolution, and CRS. Each band represents light reflected (or emmitted) from the different portions of the electromagnetic spectrum. The pixel brightness for each band, when composited creates the colors that we see in an image.\n",
    "\n",
    "<img src=\"../assets/ETM+vOLI-TIRS-web_Feb20131_sm.jpg\" width=\"700\"/>\n",
    "\n",
    "*Source: L.Rocchio & J.Barsi*\n",
    "\n",
    "\n",
    "One type of multi-band raster dataset that is familiar to many of us is a color image. A basic color image consists of three bands: red, green, and blue.\n",
    "\n",
    "<img src=\"../assets/RGBSTack_1.jpg\" width=\"700\"/>\n",
    "*Source: National Ecological Observatory Network (NEON).*\n",
    "\n",
    "<div class=\"alert-warning\">\n",
    "    \n",
    "#### Multi-band raster data might also contain\n",
    "1. Time series: the same variable, over the same area, over time\n",
    "2. Multi or hyperspectral imagery: image rasters that have 4 or more (multi-spectral) or more than 10-15 (hyperspectral) bands\n",
    "</div>"
   ]
  },
  {
   "cell_type": "markdown",
   "metadata": {},
   "source": [
    "## Additional Resources\n",
    "\n",
    "There is a lot of material out there describing rasters! \n",
    "\n",
    "Here is another tutorial put together by datacarpenty: [https://datacarpentry.org/organization-geospatial/01-intro-raster-data/index.html](https://datacarpentry.org/organization-geospatial/01-intro-raster-data/index.html)"
   ]
  },
  {
   "cell_type": "markdown",
   "metadata": {},
   "source": [
    "<div class=\"alert-info\">\n",
    "\n",
    "### key points \n",
    "\n",
    "* Raster data is pixelated data stored as a matrix\n",
    "* Raster images are often packaged as multidimensional arrays - containing for example RGB and other spectral bands\n",
    "* Geospatial raster data always has a coordinate reference system (CRS) and geotransform that maps image coordinates to locations on Earth's surface\n",
    "* People often refer to \"resolution\" as the ground pixel size of a raster, but more specifically it refers to the sensor's ability to disabiguate adjacent objects on the ground\n",
    "\n",
    "</div>"
   ]
  }
 ],
 "metadata": {
  "kernelspec": {
   "display_name": "Python 3",
   "language": "python",
   "name": "python3"
  },
  "language_info": {
   "codemirror_mode": {
    "name": "ipython",
    "version": 3
   },
   "file_extension": ".py",
   "mimetype": "text/x-python",
   "name": "python",
   "nbconvert_exporter": "python",
   "pygments_lexer": "ipython3",
   "version": "3.7.3"
  }
 },
 "nbformat": 4,
 "nbformat_minor": 4
}
